{
 "cells": [
  {
   "cell_type": "code",
   "execution_count": 4,
   "metadata": {},
   "outputs": [],
   "source": [
    "import os\n",
    "from os.path import join #import join to get directory\n",
    "\n",
    "import pandas as pd"
   ]
  },
  {
   "cell_type": "code",
   "execution_count": 5,
   "metadata": {},
   "outputs": [],
   "source": [
    "def AbstractClean(file_directory, file_name, save_directory, new_file_name): \n",
    "    # insert four paramaters: the direcotry of raw file; the name of raw file; the directory of new file you want to save; \n",
    "    # and the name of your new file.\n",
    "    df = pd.read_excel(join(file_directory, file_name)) \n",
    "    # read raw file\n",
    "    df_new = df.fillna('')\n",
    "    # replace NA\n",
    "    for index, row in enumerate(df_new['Abstract']):\n",
    "        # loop the data in each row\n",
    "        Abstract_clean_0 = row.split(\"Â©\")[0]\n",
    "        # delete 'Â©'\n",
    "        Abstract_clean_1 = Abstract_clean_0.split(\"©\")[0]\n",
    "        # delete '©'\n",
    "        Abstract_clean_2 = Abstract_clean_1.split(\"Copyright ©\")[0]\n",
    "        # delete ''Copyright ©''\n",
    "        df.at[index, 'Abstract'] = Abstract_clean_2\n",
    "        # replace abstract with cleaned abstract\n",
    "    writer = pd.ExcelWriter(join(save_directory, new_file_name))\n",
    "    df.to_excel(writer,'Sheet1')\n",
    "    # save the cleaned dataframe to a excel file.\n",
    "    return writer.save()"
   ]
  },
  {
   "cell_type": "code",
   "execution_count": 7,
   "metadata": {},
   "outputs": [],
   "source": [
    "AbstractClean('F:\\\\Projects\\\\myfile', 'filename.xlsx', 'F:\\\\Projects\\\\myfile', 'newfilename.xlsx')\n",
    "# insert four paramaters: the direcotry of raw file, the name of raw file, the directory of new file you want to save, \n",
    "# and the name of your new file."
   ]
  }
 ],
 "metadata": {
  "kernelspec": {
   "display_name": "Python 3",
   "language": "python",
   "name": "python3"
  },
  "language_info": {
   "codemirror_mode": {
    "name": "ipython",
    "version": 3
   },
   "file_extension": ".py",
   "mimetype": "text/x-python",
   "name": "python",
   "nbconvert_exporter": "python",
   "pygments_lexer": "ipython3",
   "version": "3.7.0"
  }
 },
 "nbformat": 4,
 "nbformat_minor": 2
}
