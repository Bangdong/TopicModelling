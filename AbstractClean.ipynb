{
 "cells": [
  {
   "cell_type": "code",
   "execution_count": 1,
   "metadata": {},
   "outputs": [],
   "source": [
    "import os\n",
    "from os.path import join #import join to get directory\n",
    "\n",
    "import pandas as pd"
   ]
  },
  {
   "cell_type": "code",
   "execution_count": 2,
   "metadata": {},
   "outputs": [],
   "source": [
    "def AbstractClean(file_directory, file_name, save_directory, new_file_name):\n",
    "    df = pd.read_excel(join(file_directory, file_name))\n",
    "    df_new = df.fillna('')\n",
    "    for index, row in enumerate(df_new['Abstract']):\n",
    "        Abstract_clean_0 = row.split(\"Â©\")[0] \n",
    "        Abstract_clean_1 = Abstract_clean_0.split(\"©\")[0]\n",
    "        Abstract_clean_2 = Abstract_clean_1.split(\"Copyright ©\")[0]\n",
    "        df.at[index, 'Abstract'] = Abstract_clean_2\n",
    "    writer = pd.ExcelWriter(join(save_directory, new_file_name))\n",
    "    df.to_excel(writer,'Sheet1')\n",
    "    return writer.save()"
   ]
  },
  {
   "cell_type": "code",
   "execution_count": 3,
   "metadata": {},
   "outputs": [],
   "source": [
    "AbstractClean('F:\\\\Projects\\\\SCF_LR\\\\1_data', 'SCF_empirical.xlsx', 'F:\\\\Projects\\\\SCF_LR\\\\1_data', 'SCF_empirical_clean.xlsx')"
   ]
  }
 ],
 "metadata": {
  "kernelspec": {
   "display_name": "Python 3",
   "language": "python",
   "name": "python3"
  },
  "language_info": {
   "codemirror_mode": {
    "name": "ipython",
    "version": 3
   },
   "file_extension": ".py",
   "mimetype": "text/x-python",
   "name": "python",
   "nbconvert_exporter": "python",
   "pygments_lexer": "ipython3",
   "version": "3.7.0"
  }
 },
 "nbformat": 4,
 "nbformat_minor": 2
}
